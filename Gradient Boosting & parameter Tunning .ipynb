{
 "cells": [
  {
   "cell_type": "markdown",
   "id": "f77f75bb",
   "metadata": {},
   "source": [
    "# *Simple Implementation of Gradient Boosting Algorithm And Hyperparameter Tunning 📊\n",
    "#### *In this Notebook* 👇\n",
    "1. loading dataset\n",
    "2. Encoding\n",
    "3. Train Test Split\n",
    "4. Gradient Boosting \n",
    "5. Hyperparameter Tunning "
   ]
  },
  {
   "cell_type": "code",
   "execution_count": 1,
   "id": "b3a988a5",
   "metadata": {},
   "outputs": [],
   "source": [
    "#Importing Libraries \n",
    "import pandas as pd \n",
    "import numpy as np\n",
    "import matplotlib.pyplot as plt \n",
    "import seaborn as sns"
   ]
  },
  {
   "cell_type": "code",
   "execution_count": 2,
   "id": "b234e76c",
   "metadata": {},
   "outputs": [],
   "source": [
    "#Loading dataset\n",
    "data = pd.read_csv(r\"C:\\Users\\sopan\\Desktop\\jupyter\\All dataset\\Automobile_data.csv\")"
   ]
  },
  {
   "cell_type": "code",
   "execution_count": 3,
   "id": "bef8446c",
   "metadata": {},
   "outputs": [],
   "source": [
    "# Droping Unknown columns\n",
    "data.drop(['Unnamed: 0','index'],axis=1,inplace=True)"
   ]
  },
  {
   "cell_type": "code",
   "execution_count": 4,
   "id": "500cb3f7",
   "metadata": {},
   "outputs": [],
   "source": [
    "data.dropna(inplace=True)\n",
    "# Only 2 Null values so droping it "
   ]
  },
  {
   "cell_type": "code",
   "execution_count": 5,
   "id": "4e438640",
   "metadata": {},
   "outputs": [
    {
     "name": "stdout",
     "output_type": "stream",
     "text": [
      "<class 'pandas.core.frame.DataFrame'>\n",
      "Int64Index: 58 entries, 0 to 60\n",
      "Data columns (total 9 columns):\n",
      " #   Column            Non-Null Count  Dtype  \n",
      "---  ------            --------------  -----  \n",
      " 0   company           58 non-null     object \n",
      " 1   body-style        58 non-null     object \n",
      " 2   wheel-base        58 non-null     float64\n",
      " 3   length            58 non-null     float64\n",
      " 4   engine-type       58 non-null     object \n",
      " 5   num-of-cylinders  58 non-null     object \n",
      " 6   horsepower        58 non-null     int64  \n",
      " 7   average-mileage   58 non-null     int64  \n",
      " 8   price             58 non-null     float64\n",
      "dtypes: float64(3), int64(2), object(4)\n",
      "memory usage: 4.5+ KB\n"
     ]
    }
   ],
   "source": [
    "data.info()"
   ]
  },
  {
   "cell_type": "markdown",
   "id": "8099338b",
   "metadata": {},
   "source": [
    "## 2. Encoding\n"
   ]
  },
  {
   "cell_type": "code",
   "execution_count": 6,
   "id": "3f5e03f5",
   "metadata": {},
   "outputs": [],
   "source": [
    "# Encoding  -One Hot Encoding (chategorical dfata to Numerical ) \n",
    "\n",
    "Company_ = pd.get_dummies(data['company'],dtype=int)\n",
    "bodyst = pd.get_dummies(data['body-style'],dtype=int)\n",
    "engine_t = pd.get_dummies(data['engine-type'],dtype=int)\n",
    "num_cyl = pd.get_dummies(data['num-of-cylinders'],dtype=int)\n",
    "\n",
    "#drping Categorical features\n",
    "data.drop(['company','body-style','engine-type','num-of-cylinders'],axis=1,inplace=True)"
   ]
  },
  {
   "cell_type": "markdown",
   "id": "96e01d52",
   "metadata": {},
   "source": [
    "## 3. Train Test Split\n"
   ]
  },
  {
   "cell_type": "code",
   "execution_count": 7,
   "id": "ff2772a6",
   "metadata": {},
   "outputs": [],
   "source": [
    "# train data\n",
    "\n",
    "x = data[data.columns[:-1]] \n",
    "\n",
    "# Joining One Hote Encoding data \n",
    "x.join(Company_)\n",
    "x.join(bodyst)\n",
    "x.join(engine_t)\n",
    "x.join(num_cyl)\n",
    "\n",
    " # test data\n",
    "y = data[data.columns[-1]]"
   ]
  },
  {
   "cell_type": "code",
   "execution_count": 8,
   "id": "54aa3f4c",
   "metadata": {},
   "outputs": [],
   "source": [
    "# testing and validation sets\n",
    "\n",
    "from sklearn.model_selection import train_test_split\n",
    "x_train,x_test,y_train,y_test = train_test_split(x,y, test_size=0.2,random_state=42)"
   ]
  },
  {
   "cell_type": "markdown",
   "id": "65b966dc",
   "metadata": {},
   "source": [
    "## 4. Gradient Boosting "
   ]
  },
  {
   "cell_type": "code",
   "execution_count": 9,
   "id": "d6c660d8",
   "metadata": {},
   "outputs": [],
   "source": [
    "from sklearn.ensemble import GradientBoostingRegressor\n",
    "\n",
    "\n",
    "GBR = GradientBoostingRegressor()\n",
    "model =  GBR.fit(x_train,y_train)\n",
    "y_pred = model.predict(x_test)"
   ]
  },
  {
   "cell_type": "code",
   "execution_count": 11,
   "id": "e624cf26",
   "metadata": {},
   "outputs": [
    {
     "name": "stdout",
     "output_type": "stream",
     "text": [
      "mean squared eroor : 3722955.2039\n",
      "R2 squared :0.9695\n"
     ]
    }
   ],
   "source": [
    "#performenre metrics \n",
    "from sklearn.metrics import r2_score,mean_squared_error\n",
    "\n",
    "\n",
    "print(\"mean squared eroor : %.4f\"%mean_squared_error(y_test,y_pred))\n",
    "print(\"R2 squared :%.4f\"%r2_score(y_test,y_pred))"
   ]
  },
  {
   "cell_type": "markdown",
   "id": "f4889512",
   "metadata": {},
   "source": [
    "## 5. Hyperparameter Tunning \n",
    "* Gradient Boosting Hyperparameter Tunning"
   ]
  },
  {
   "cell_type": "code",
   "execution_count": 12,
   "id": "46fbdbf4",
   "metadata": {},
   "outputs": [
    {
     "name": "stdout",
     "output_type": "stream",
     "text": [
      "best Parameters : {'learning_rate': 0.8, 'n_estimators': 80}\n"
     ]
    }
   ],
   "source": [
    "from sklearn.model_selection import GridSearchCV\n",
    "\n",
    "\n",
    "param = {'learning_rate':[0.1,0.4,0.6,0.8,1], 'n_estimators':[80,100,120,150,180]}\n",
    "GSC = GridSearchCV(estimator=model,param_grid=param)\n",
    "GSC_model = GSC.fit(x_train,y_train)\n",
    "print(\"best Parameters :\",GSC_model.best_params_)"
   ]
  },
  {
   "cell_type": "code",
   "execution_count": 13,
   "id": "fac7b54d",
   "metadata": {},
   "outputs": [],
   "source": [
    "GSC_ypred = GSC_model.predict(x_test)"
   ]
  },
  {
   "cell_type": "code",
   "execution_count": 14,
   "id": "438a130a",
   "metadata": {},
   "outputs": [
    {
     "name": "stdout",
     "output_type": "stream",
     "text": [
      "mean squared eroor : 4421296.4197\n",
      "R2 squared :0.9637\n",
      "mean absolute error :1639.3859\n"
     ]
    }
   ],
   "source": [
    "#performence metrics of Gredsearch CV \n",
    "from sklearn.metrics import r2_score,mean_squared_error\n",
    "\n",
    "\n",
    "print(\"mean squared eroor : %.4f\"%mean_squared_error(y_test,GSC_ypred))\n",
    "print(\"R2 squared :%.4f\"%r2_score(y_test,GSC_ypred))\n",
    "print(\"mean absolute error :%.4f\"%mean_absolute_error(y_test,GSC_ypred))"
   ]
  },
  {
   "cell_type": "markdown",
   "id": "8e1a2d17",
   "metadata": {},
   "source": [
    "*Thank You!*"
   ]
  },
  {
   "cell_type": "code",
   "execution_count": null,
   "id": "af56bce7",
   "metadata": {},
   "outputs": [],
   "source": []
  }
 ],
 "metadata": {
  "kernelspec": {
   "display_name": "Python 3 (ipykernel)",
   "language": "python",
   "name": "python3"
  },
  "language_info": {
   "codemirror_mode": {
    "name": "ipython",
    "version": 3
   },
   "file_extension": ".py",
   "mimetype": "text/x-python",
   "name": "python",
   "nbconvert_exporter": "python",
   "pygments_lexer": "ipython3",
   "version": "3.10.7"
  }
 },
 "nbformat": 4,
 "nbformat_minor": 5
}
